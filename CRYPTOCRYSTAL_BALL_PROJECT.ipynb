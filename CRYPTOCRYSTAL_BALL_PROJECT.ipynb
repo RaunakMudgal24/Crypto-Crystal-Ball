{
  "nbformat": 4,
  "nbformat_minor": 0,
  "metadata": {
    "colab": {
      "provenance": []
    },
    "kernelspec": {
      "name": "python3",
      "display_name": "Python 3"
    },
    "language_info": {
      "name": "python"
    }
  },
  "cells": [
    {
      "cell_type": "code",
      "execution_count": null,
      "metadata": {
        "colab": {
          "base_uri": "https://localhost:8080/"
        },
        "id": "Ypqg5Yc9XjdO",
        "outputId": "82cdc188-4e25-4395-fd77-596e2d78ef93"
      },
      "outputs": [
        {
          "output_type": "stream",
          "name": "stdout",
          "text": [
            "Looking in indexes: https://pypi.org/simple, https://us-python.pkg.dev/colab-wheels/public/simple/\n",
            "Requirement already satisfied: pyspark in /usr/local/lib/python3.9/dist-packages (3.3.2)\n",
            "Requirement already satisfied: py4j==0.10.9.5 in /usr/local/lib/python3.9/dist-packages (from pyspark) (0.10.9.5)\n"
          ]
        }
      ],
      "source": [
        "!pip install pyspark"
      ]
    },
    {
      "cell_type": "code",
      "source": [
        "from google.colab import drive\n",
        "drive.mount('/content/drive')"
      ],
      "metadata": {
        "colab": {
          "base_uri": "https://localhost:8080/"
        },
        "id": "te3F-7CvYHOG",
        "outputId": "11c073b9-022c-4bac-b8a0-debd636ea5d7"
      },
      "execution_count": null,
      "outputs": [
        {
          "output_type": "stream",
          "name": "stdout",
          "text": [
            "Drive already mounted at /content/drive; to attempt to forcibly remount, call drive.mount(\"/content/drive\", force_remount=True).\n"
          ]
        }
      ]
    },
    {
      "cell_type": "code",
      "source": [
        "from pyspark.sql import SparkSession\n",
        "import pyspark.sql.functions as F\n",
        "import pyspark.sql.types as T\n",
        "from pyspark.sql.functions import to_timestamp,to_date,date_format\n",
        "from pyspark.ml.feature import VectorAssembler\n",
        "from pyspark.sql.functions import unix_timestamp\n",
        "\n",
        "spark = SparkSession.builder.getOrCreate()"
      ],
      "metadata": {
        "id": "eZxBZoZzYlIi"
      },
      "execution_count": null,
      "outputs": []
    },
    {
      "cell_type": "code",
      "source": [
        "df = spark.read.csv(f\"/content/drive/MyDrive/btc.csv\", inferSchema = True, header = True)"
      ],
      "metadata": {
        "id": "VYibVkixYzEc"
      },
      "execution_count": null,
      "outputs": []
    },
    {
      "cell_type": "code",
      "source": [
        "df.printSchema()"
      ],
      "metadata": {
        "colab": {
          "base_uri": "https://localhost:8080/"
        },
        "id": "8-vtPmkgZJoq",
        "outputId": "9ac4a71f-e379-4693-8325-2c78b6ca4694"
      },
      "execution_count": null,
      "outputs": [
        {
          "output_type": "stream",
          "name": "stdout",
          "text": [
            "root\n",
            " |-- time: timestamp (nullable = true)\n",
            " |--  id: integer (nullable = true)\n",
            " |--  amount: double (nullable = true)\n",
            " |--  open: double (nullable = true)\n",
            " |--  high: double (nullable = true)\n",
            " |--  low: double (nullable = true)\n",
            " |--  close: double (nullable = true)\n",
            " |--  count: double (nullable = true)\n",
            " |--  vol: double (nullable = true)\n",
            "\n"
          ]
        }
      ]
    },
    {
      "cell_type": "code",
      "source": [
        "from pyspark.sql.functions import to_timestamp\n",
        "\n",
        "# assuming you have a PySpark DataFrame called 'df'\n",
        "df = df.withColumn('time', to_timestamp('time', 'yyyy-MM-dd HH:mm:ss'))"
      ],
      "metadata": {
        "id": "lS-_dkFFZLkf"
      },
      "execution_count": null,
      "outputs": []
    },
    {
      "cell_type": "code",
      "source": [
        "df.printSchema()"
      ],
      "metadata": {
        "colab": {
          "base_uri": "https://localhost:8080/"
        },
        "id": "sOJaaO4IZgnX",
        "outputId": "a0fcab96-6b32-4df5-b67b-1f764c07f580"
      },
      "execution_count": null,
      "outputs": [
        {
          "output_type": "stream",
          "name": "stdout",
          "text": [
            "root\n",
            " |-- time: timestamp (nullable = true)\n",
            " |--  id: integer (nullable = true)\n",
            " |--  amount: double (nullable = true)\n",
            " |--  open: double (nullable = true)\n",
            " |--  high: double (nullable = true)\n",
            " |--  low: double (nullable = true)\n",
            " |--  close: double (nullable = true)\n",
            " |--  count: double (nullable = true)\n",
            " |--  vol: double (nullable = true)\n",
            "\n"
          ]
        }
      ]
    },
    {
      "cell_type": "code",
      "source": [
        "df.show()"
      ],
      "metadata": {
        "colab": {
          "base_uri": "https://localhost:8080/"
        },
        "id": "OnE6gDwUZuxl",
        "outputId": "a83d5f11-816a-4c70-dffe-41bf44f07e46"
      },
      "execution_count": null,
      "outputs": [
        {
          "output_type": "stream",
          "name": "stdout",
          "text": [
            "+-------------------+----------+------------------+-------+-------+-------+-------+------+------------------+\n",
            "|               time|        id|            amount|   open|   high|    low|  close| count|               vol|\n",
            "+-------------------+----------+------------------+-------+-------+-------+-------+------+------------------+\n",
            "|2020-01-01 00:00:00|1577808000|102.74380394536281| 7194.7| 7200.0|7186.19| 7200.0| 497.0| 738706.3461761171|\n",
            "|2020-01-01 00:01:00|1577808060| 70.71166088549622| 7200.0|7219.58|7199.99| 7218.2| 448.0| 509693.2114912161|\n",
            "|2020-01-01 00:02:00|1577808120|17.445959611852214|7218.21|7218.44|7213.09|7216.22| 248.0|   125889.77536392|\n",
            "|2020-01-01 00:03:00|1577808180| 13.03460623212044|7216.21|7221.91|7215.48|7218.37| 300.0| 94091.10083095604|\n",
            "|2020-01-01 00:04:00|1577808240|14.004799868097122|7218.37|7220.13|7210.01|7213.05| 279.0|   101042.53180219|\n",
            "|2020-01-01 00:05:00|1577808300| 12.57289432271876|7213.48|7221.76|7212.62|7218.38| 189.0| 90727.99216263865|\n",
            "|2020-01-01 00:06:00|1577808360|         26.494623|7218.69|7218.69|7213.55|7216.32| 120.0|    191226.4272875|\n",
            "|2020-01-01 00:07:00|1577808420| 13.66583678670583|7216.36|7216.68|7210.65|7213.05| 122.0|    98577.37344609|\n",
            "|2020-01-01 00:08:00|1577808480| 5.379748904316844|7213.06|7214.02| 7208.0| 7208.0| 100.0|    38789.25433764|\n",
            "|2020-01-01 00:09:00|1577808540|17.430986798732366|7206.97|7218.04| 7206.9|7216.42| 134.0|   125709.23194267|\n",
            "|2020-01-01 00:10:00|1577808600|         11.686778|7216.85|7217.05|7207.94|7207.94| 149.0|    84274.64292937|\n",
            "|2020-01-01 00:11:00|1577808660| 20.26184375802976|7207.94|7210.68|7204.95|7210.68| 142.0|   146052.57305157|\n",
            "|2020-01-01 00:12:00|1577808720|  21.6225235831089|7210.91|7212.03|7206.01|7211.95| 101.0|155888.89063884952|\n",
            "|2020-01-01 00:13:00|1577808780|12.972475555018596| 7211.9|7214.39|7207.43|7207.58|  99.0|     93546.1631028|\n",
            "|2020-01-01 00:14:00|1577808840| 8.697693206541542|7207.35|7210.23| 7206.0|7206.03|  95.0|    62686.21083732|\n",
            "|2020-01-01 00:15:00|1577808900|11.673862703658642|7206.02|7212.46|7202.49| 7211.4| 189.0| 84117.68320472864|\n",
            "|2020-01-01 00:16:00|1577808960| 3.448890730596984| 7211.4| 7211.4| 7205.0|7206.19| 141.0|    24858.76735671|\n",
            "|2020-01-01 00:17:00|1577809020|  2.46051378083749|7206.19|7207.79|7203.83|7204.78|  76.0|    17729.73508884|\n",
            "|2020-01-01 00:18:00|1577809080|0.8903570662532831|7204.78| 7210.0|7204.78| 7206.4| 106.0| 6417.150197422528|\n",
            "|2020-01-01 00:19:00|1577809140|110.10807583996119|7206.89|7224.12| 7205.0|7223.27| 467.0|    794320.5212075|\n",
            "+-------------------+----------+------------------+-------+-------+-------+-------+------+------------------+\n",
            "only showing top 20 rows\n",
            "\n"
          ]
        }
      ]
    },
    {
      "cell_type": "code",
      "source": [
        "from pyspark.sql.functions import isnull, when, col, count, lit, regexp_extract, mean, avg, split\n",
        "df.select([count(when(isnull(c),c)).alias(c) for c in df.columns]).show()"
      ],
      "metadata": {
        "colab": {
          "base_uri": "https://localhost:8080/"
        },
        "id": "Mj6Zh7zlaRQi",
        "outputId": "574a0f76-aa35-43a2-f88e-57fe7a17fb9e"
      },
      "execution_count": null,
      "outputs": [
        {
          "output_type": "stream",
          "name": "stdout",
          "text": [
            "+----+---+-------+-----+-----+----+------+------+----+\n",
            "|time| id| amount| open| high| low| close| count| vol|\n",
            "+----+---+-------+-----+-----+----+------+------+----+\n",
            "|   0|  0|      0|    0|    0|   0|     0|     0|   0|\n",
            "+----+---+-------+-----+-----+----+------+------+----+\n",
            "\n"
          ]
        }
      ]
    },
    {
      "cell_type": "code",
      "source": [
        "df.printSchema()"
      ],
      "metadata": {
        "colab": {
          "base_uri": "https://localhost:8080/"
        },
        "id": "Pamyr0HIaqn6",
        "outputId": "0e0dde35-e9dc-435d-b73e-c28b6976cd23"
      },
      "execution_count": null,
      "outputs": [
        {
          "output_type": "stream",
          "name": "stdout",
          "text": [
            "root\n",
            " |-- time: timestamp (nullable = true)\n",
            " |--  id: integer (nullable = true)\n",
            " |--  amount: double (nullable = true)\n",
            " |--  open: double (nullable = true)\n",
            " |--  high: double (nullable = true)\n",
            " |--  low: double (nullable = true)\n",
            " |--  close: double (nullable = true)\n",
            " |--  count: double (nullable = true)\n",
            " |--  vol: double (nullable = true)\n",
            "\n"
          ]
        }
      ]
    },
    {
      "cell_type": "code",
      "source": [
        "df.show()"
      ],
      "metadata": {
        "colab": {
          "base_uri": "https://localhost:8080/"
        },
        "id": "9qLRPTfFa0hb",
        "outputId": "060c7378-f32d-48da-c6eb-c822d8416b55"
      },
      "execution_count": null,
      "outputs": [
        {
          "output_type": "stream",
          "name": "stdout",
          "text": [
            "+-------------------+----------+------------------+-------+-------+-------+-------+------+------------------+\n",
            "|               time|        id|            amount|   open|   high|    low|  close| count|               vol|\n",
            "+-------------------+----------+------------------+-------+-------+-------+-------+------+------------------+\n",
            "|2020-01-01 00:00:00|1577808000|102.74380394536281| 7194.7| 7200.0|7186.19| 7200.0| 497.0| 738706.3461761171|\n",
            "|2020-01-01 00:01:00|1577808060| 70.71166088549622| 7200.0|7219.58|7199.99| 7218.2| 448.0| 509693.2114912161|\n",
            "|2020-01-01 00:02:00|1577808120|17.445959611852214|7218.21|7218.44|7213.09|7216.22| 248.0|   125889.77536392|\n",
            "|2020-01-01 00:03:00|1577808180| 13.03460623212044|7216.21|7221.91|7215.48|7218.37| 300.0| 94091.10083095604|\n",
            "|2020-01-01 00:04:00|1577808240|14.004799868097122|7218.37|7220.13|7210.01|7213.05| 279.0|   101042.53180219|\n",
            "|2020-01-01 00:05:00|1577808300| 12.57289432271876|7213.48|7221.76|7212.62|7218.38| 189.0| 90727.99216263865|\n",
            "|2020-01-01 00:06:00|1577808360|         26.494623|7218.69|7218.69|7213.55|7216.32| 120.0|    191226.4272875|\n",
            "|2020-01-01 00:07:00|1577808420| 13.66583678670583|7216.36|7216.68|7210.65|7213.05| 122.0|    98577.37344609|\n",
            "|2020-01-01 00:08:00|1577808480| 5.379748904316844|7213.06|7214.02| 7208.0| 7208.0| 100.0|    38789.25433764|\n",
            "|2020-01-01 00:09:00|1577808540|17.430986798732366|7206.97|7218.04| 7206.9|7216.42| 134.0|   125709.23194267|\n",
            "|2020-01-01 00:10:00|1577808600|         11.686778|7216.85|7217.05|7207.94|7207.94| 149.0|    84274.64292937|\n",
            "|2020-01-01 00:11:00|1577808660| 20.26184375802976|7207.94|7210.68|7204.95|7210.68| 142.0|   146052.57305157|\n",
            "|2020-01-01 00:12:00|1577808720|  21.6225235831089|7210.91|7212.03|7206.01|7211.95| 101.0|155888.89063884952|\n",
            "|2020-01-01 00:13:00|1577808780|12.972475555018596| 7211.9|7214.39|7207.43|7207.58|  99.0|     93546.1631028|\n",
            "|2020-01-01 00:14:00|1577808840| 8.697693206541542|7207.35|7210.23| 7206.0|7206.03|  95.0|    62686.21083732|\n",
            "|2020-01-01 00:15:00|1577808900|11.673862703658642|7206.02|7212.46|7202.49| 7211.4| 189.0| 84117.68320472864|\n",
            "|2020-01-01 00:16:00|1577808960| 3.448890730596984| 7211.4| 7211.4| 7205.0|7206.19| 141.0|    24858.76735671|\n",
            "|2020-01-01 00:17:00|1577809020|  2.46051378083749|7206.19|7207.79|7203.83|7204.78|  76.0|    17729.73508884|\n",
            "|2020-01-01 00:18:00|1577809080|0.8903570662532831|7204.78| 7210.0|7204.78| 7206.4| 106.0| 6417.150197422528|\n",
            "|2020-01-01 00:19:00|1577809140|110.10807583996119|7206.89|7224.12| 7205.0|7223.27| 467.0|    794320.5212075|\n",
            "+-------------------+----------+------------------+-------+-------+-------+-------+------+------------------+\n",
            "only showing top 20 rows\n",
            "\n"
          ]
        }
      ]
    },
    {
      "cell_type": "code",
      "source": [
        "#df = df.drop(\"time\")"
      ],
      "metadata": {
        "id": "cW0n2k28bB6p"
      },
      "execution_count": null,
      "outputs": []
    },
    {
      "cell_type": "code",
      "source": [
        "df.show()"
      ],
      "metadata": {
        "colab": {
          "base_uri": "https://localhost:8080/"
        },
        "id": "Wxrt37z8bGJX",
        "outputId": "f8bd795c-5133-4933-f162-9630d9fe096a"
      },
      "execution_count": null,
      "outputs": [
        {
          "output_type": "stream",
          "name": "stdout",
          "text": [
            "+-------------------+----------+------------------+-------+-------+-------+-------+------+------------------+\n",
            "|               time|        id|            amount|   open|   high|    low|  close| count|               vol|\n",
            "+-------------------+----------+------------------+-------+-------+-------+-------+------+------------------+\n",
            "|2020-01-01 00:00:00|1577808000|102.74380394536281| 7194.7| 7200.0|7186.19| 7200.0| 497.0| 738706.3461761171|\n",
            "|2020-01-01 00:01:00|1577808060| 70.71166088549622| 7200.0|7219.58|7199.99| 7218.2| 448.0| 509693.2114912161|\n",
            "|2020-01-01 00:02:00|1577808120|17.445959611852214|7218.21|7218.44|7213.09|7216.22| 248.0|   125889.77536392|\n",
            "|2020-01-01 00:03:00|1577808180| 13.03460623212044|7216.21|7221.91|7215.48|7218.37| 300.0| 94091.10083095604|\n",
            "|2020-01-01 00:04:00|1577808240|14.004799868097122|7218.37|7220.13|7210.01|7213.05| 279.0|   101042.53180219|\n",
            "|2020-01-01 00:05:00|1577808300| 12.57289432271876|7213.48|7221.76|7212.62|7218.38| 189.0| 90727.99216263865|\n",
            "|2020-01-01 00:06:00|1577808360|         26.494623|7218.69|7218.69|7213.55|7216.32| 120.0|    191226.4272875|\n",
            "|2020-01-01 00:07:00|1577808420| 13.66583678670583|7216.36|7216.68|7210.65|7213.05| 122.0|    98577.37344609|\n",
            "|2020-01-01 00:08:00|1577808480| 5.379748904316844|7213.06|7214.02| 7208.0| 7208.0| 100.0|    38789.25433764|\n",
            "|2020-01-01 00:09:00|1577808540|17.430986798732366|7206.97|7218.04| 7206.9|7216.42| 134.0|   125709.23194267|\n",
            "|2020-01-01 00:10:00|1577808600|         11.686778|7216.85|7217.05|7207.94|7207.94| 149.0|    84274.64292937|\n",
            "|2020-01-01 00:11:00|1577808660| 20.26184375802976|7207.94|7210.68|7204.95|7210.68| 142.0|   146052.57305157|\n",
            "|2020-01-01 00:12:00|1577808720|  21.6225235831089|7210.91|7212.03|7206.01|7211.95| 101.0|155888.89063884952|\n",
            "|2020-01-01 00:13:00|1577808780|12.972475555018596| 7211.9|7214.39|7207.43|7207.58|  99.0|     93546.1631028|\n",
            "|2020-01-01 00:14:00|1577808840| 8.697693206541542|7207.35|7210.23| 7206.0|7206.03|  95.0|    62686.21083732|\n",
            "|2020-01-01 00:15:00|1577808900|11.673862703658642|7206.02|7212.46|7202.49| 7211.4| 189.0| 84117.68320472864|\n",
            "|2020-01-01 00:16:00|1577808960| 3.448890730596984| 7211.4| 7211.4| 7205.0|7206.19| 141.0|    24858.76735671|\n",
            "|2020-01-01 00:17:00|1577809020|  2.46051378083749|7206.19|7207.79|7203.83|7204.78|  76.0|    17729.73508884|\n",
            "|2020-01-01 00:18:00|1577809080|0.8903570662532831|7204.78| 7210.0|7204.78| 7206.4| 106.0| 6417.150197422528|\n",
            "|2020-01-01 00:19:00|1577809140|110.10807583996119|7206.89|7224.12| 7205.0|7223.27| 467.0|    794320.5212075|\n",
            "+-------------------+----------+------------------+-------+-------+-------+-------+------+------------------+\n",
            "only showing top 20 rows\n",
            "\n"
          ]
        }
      ]
    },
    {
      "cell_type": "code",
      "source": [
        "df = df.drop(\" id\")"
      ],
      "metadata": {
        "id": "3_W6kl3zbOk2"
      },
      "execution_count": null,
      "outputs": []
    },
    {
      "cell_type": "code",
      "source": [
        "df.show()"
      ],
      "metadata": {
        "colab": {
          "base_uri": "https://localhost:8080/"
        },
        "id": "zsajVX1abZQO",
        "outputId": "281c6eb3-6362-40bd-9a6e-bf0a2b16ab89"
      },
      "execution_count": null,
      "outputs": [
        {
          "output_type": "stream",
          "name": "stdout",
          "text": [
            "+-------------------+------------------+-------+-------+-------+-------+------+------------------+\n",
            "|               time|            amount|   open|   high|    low|  close| count|               vol|\n",
            "+-------------------+------------------+-------+-------+-------+-------+------+------------------+\n",
            "|2020-01-01 00:00:00|102.74380394536281| 7194.7| 7200.0|7186.19| 7200.0| 497.0| 738706.3461761171|\n",
            "|2020-01-01 00:01:00| 70.71166088549622| 7200.0|7219.58|7199.99| 7218.2| 448.0| 509693.2114912161|\n",
            "|2020-01-01 00:02:00|17.445959611852214|7218.21|7218.44|7213.09|7216.22| 248.0|   125889.77536392|\n",
            "|2020-01-01 00:03:00| 13.03460623212044|7216.21|7221.91|7215.48|7218.37| 300.0| 94091.10083095604|\n",
            "|2020-01-01 00:04:00|14.004799868097122|7218.37|7220.13|7210.01|7213.05| 279.0|   101042.53180219|\n",
            "|2020-01-01 00:05:00| 12.57289432271876|7213.48|7221.76|7212.62|7218.38| 189.0| 90727.99216263865|\n",
            "|2020-01-01 00:06:00|         26.494623|7218.69|7218.69|7213.55|7216.32| 120.0|    191226.4272875|\n",
            "|2020-01-01 00:07:00| 13.66583678670583|7216.36|7216.68|7210.65|7213.05| 122.0|    98577.37344609|\n",
            "|2020-01-01 00:08:00| 5.379748904316844|7213.06|7214.02| 7208.0| 7208.0| 100.0|    38789.25433764|\n",
            "|2020-01-01 00:09:00|17.430986798732366|7206.97|7218.04| 7206.9|7216.42| 134.0|   125709.23194267|\n",
            "|2020-01-01 00:10:00|         11.686778|7216.85|7217.05|7207.94|7207.94| 149.0|    84274.64292937|\n",
            "|2020-01-01 00:11:00| 20.26184375802976|7207.94|7210.68|7204.95|7210.68| 142.0|   146052.57305157|\n",
            "|2020-01-01 00:12:00|  21.6225235831089|7210.91|7212.03|7206.01|7211.95| 101.0|155888.89063884952|\n",
            "|2020-01-01 00:13:00|12.972475555018596| 7211.9|7214.39|7207.43|7207.58|  99.0|     93546.1631028|\n",
            "|2020-01-01 00:14:00| 8.697693206541542|7207.35|7210.23| 7206.0|7206.03|  95.0|    62686.21083732|\n",
            "|2020-01-01 00:15:00|11.673862703658642|7206.02|7212.46|7202.49| 7211.4| 189.0| 84117.68320472864|\n",
            "|2020-01-01 00:16:00| 3.448890730596984| 7211.4| 7211.4| 7205.0|7206.19| 141.0|    24858.76735671|\n",
            "|2020-01-01 00:17:00|  2.46051378083749|7206.19|7207.79|7203.83|7204.78|  76.0|    17729.73508884|\n",
            "|2020-01-01 00:18:00|0.8903570662532831|7204.78| 7210.0|7204.78| 7206.4| 106.0| 6417.150197422528|\n",
            "|2020-01-01 00:19:00|110.10807583996119|7206.89|7224.12| 7205.0|7223.27| 467.0|    794320.5212075|\n",
            "+-------------------+------------------+-------+-------+-------+-------+------+------------------+\n",
            "only showing top 20 rows\n",
            "\n"
          ]
        }
      ]
    },
    {
      "cell_type": "code",
      "source": [
        "df.printSchema()"
      ],
      "metadata": {
        "colab": {
          "base_uri": "https://localhost:8080/"
        },
        "id": "6pgVlX3_bhll",
        "outputId": "0ddcb627-f4a6-4727-88e0-b790b2ad124e"
      },
      "execution_count": null,
      "outputs": [
        {
          "output_type": "stream",
          "name": "stdout",
          "text": [
            "root\n",
            " |-- time: timestamp (nullable = true)\n",
            " |--  amount: double (nullable = true)\n",
            " |--  open: double (nullable = true)\n",
            " |--  high: double (nullable = true)\n",
            " |--  low: double (nullable = true)\n",
            " |--  close: double (nullable = true)\n",
            " |--  count: double (nullable = true)\n",
            " |--  vol: double (nullable = true)\n",
            "\n"
          ]
        }
      ]
    },
    {
      "cell_type": "code",
      "source": [
        "from pyspark.sql.functions import year, month, dayofmonth\n",
        "\n",
        "# Assuming our dataframe is named `df` and the timestamp column is named `time`\n",
        "df = df.withColumn('year', year(df.time))  # extract year\n",
        "df = df.withColumn('month', month(df.time))  # extract month\n",
        "df = df.withColumn('day', dayofmonth(df.time))  # extract day"
      ],
      "metadata": {
        "id": "HMZNVOuTbqhu"
      },
      "execution_count": null,
      "outputs": []
    },
    {
      "cell_type": "code",
      "source": [
        "df.printSchema()"
      ],
      "metadata": {
        "colab": {
          "base_uri": "https://localhost:8080/"
        },
        "id": "eAVpDfA5bxLR",
        "outputId": "bf3c3351-d1d6-4c08-b302-3d73b005903e"
      },
      "execution_count": null,
      "outputs": [
        {
          "output_type": "stream",
          "name": "stdout",
          "text": [
            "root\n",
            " |-- time: timestamp (nullable = true)\n",
            " |--  amount: double (nullable = true)\n",
            " |--  open: double (nullable = true)\n",
            " |--  high: double (nullable = true)\n",
            " |--  low: double (nullable = true)\n",
            " |--  close: double (nullable = true)\n",
            " |--  count: double (nullable = true)\n",
            " |--  vol: double (nullable = true)\n",
            " |-- year: integer (nullable = true)\n",
            " |-- month: integer (nullable = true)\n",
            " |-- day: integer (nullable = true)\n",
            "\n"
          ]
        }
      ]
    },
    {
      "cell_type": "code",
      "source": [
        "df.show()"
      ],
      "metadata": {
        "colab": {
          "base_uri": "https://localhost:8080/"
        },
        "id": "Txx31D5Ab52n",
        "outputId": "f2b8bf80-2586-4aca-e4f1-24655ab4ab39"
      },
      "execution_count": null,
      "outputs": [
        {
          "output_type": "stream",
          "name": "stdout",
          "text": [
            "+-------------------+------------------+-------+-------+-------+-------+------+------------------+----+-----+---+\n",
            "|               time|            amount|   open|   high|    low|  close| count|               vol|year|month|day|\n",
            "+-------------------+------------------+-------+-------+-------+-------+------+------------------+----+-----+---+\n",
            "|2020-01-01 00:00:00|102.74380394536281| 7194.7| 7200.0|7186.19| 7200.0| 497.0| 738706.3461761171|2020|    1|  1|\n",
            "|2020-01-01 00:01:00| 70.71166088549622| 7200.0|7219.58|7199.99| 7218.2| 448.0| 509693.2114912161|2020|    1|  1|\n",
            "|2020-01-01 00:02:00|17.445959611852214|7218.21|7218.44|7213.09|7216.22| 248.0|   125889.77536392|2020|    1|  1|\n",
            "|2020-01-01 00:03:00| 13.03460623212044|7216.21|7221.91|7215.48|7218.37| 300.0| 94091.10083095604|2020|    1|  1|\n",
            "|2020-01-01 00:04:00|14.004799868097122|7218.37|7220.13|7210.01|7213.05| 279.0|   101042.53180219|2020|    1|  1|\n",
            "|2020-01-01 00:05:00| 12.57289432271876|7213.48|7221.76|7212.62|7218.38| 189.0| 90727.99216263865|2020|    1|  1|\n",
            "|2020-01-01 00:06:00|         26.494623|7218.69|7218.69|7213.55|7216.32| 120.0|    191226.4272875|2020|    1|  1|\n",
            "|2020-01-01 00:07:00| 13.66583678670583|7216.36|7216.68|7210.65|7213.05| 122.0|    98577.37344609|2020|    1|  1|\n",
            "|2020-01-01 00:08:00| 5.379748904316844|7213.06|7214.02| 7208.0| 7208.0| 100.0|    38789.25433764|2020|    1|  1|\n",
            "|2020-01-01 00:09:00|17.430986798732366|7206.97|7218.04| 7206.9|7216.42| 134.0|   125709.23194267|2020|    1|  1|\n",
            "|2020-01-01 00:10:00|         11.686778|7216.85|7217.05|7207.94|7207.94| 149.0|    84274.64292937|2020|    1|  1|\n",
            "|2020-01-01 00:11:00| 20.26184375802976|7207.94|7210.68|7204.95|7210.68| 142.0|   146052.57305157|2020|    1|  1|\n",
            "|2020-01-01 00:12:00|  21.6225235831089|7210.91|7212.03|7206.01|7211.95| 101.0|155888.89063884952|2020|    1|  1|\n",
            "|2020-01-01 00:13:00|12.972475555018596| 7211.9|7214.39|7207.43|7207.58|  99.0|     93546.1631028|2020|    1|  1|\n",
            "|2020-01-01 00:14:00| 8.697693206541542|7207.35|7210.23| 7206.0|7206.03|  95.0|    62686.21083732|2020|    1|  1|\n",
            "|2020-01-01 00:15:00|11.673862703658642|7206.02|7212.46|7202.49| 7211.4| 189.0| 84117.68320472864|2020|    1|  1|\n",
            "|2020-01-01 00:16:00| 3.448890730596984| 7211.4| 7211.4| 7205.0|7206.19| 141.0|    24858.76735671|2020|    1|  1|\n",
            "|2020-01-01 00:17:00|  2.46051378083749|7206.19|7207.79|7203.83|7204.78|  76.0|    17729.73508884|2020|    1|  1|\n",
            "|2020-01-01 00:18:00|0.8903570662532831|7204.78| 7210.0|7204.78| 7206.4| 106.0| 6417.150197422528|2020|    1|  1|\n",
            "|2020-01-01 00:19:00|110.10807583996119|7206.89|7224.12| 7205.0|7223.27| 467.0|    794320.5212075|2020|    1|  1|\n",
            "+-------------------+------------------+-------+-------+-------+-------+------+------------------+----+-----+---+\n",
            "only showing top 20 rows\n",
            "\n"
          ]
        }
      ]
    },
    {
      "cell_type": "code",
      "source": [
        "df.printSchema()"
      ],
      "metadata": {
        "colab": {
          "base_uri": "https://localhost:8080/"
        },
        "id": "KuosqbI-b_3r",
        "outputId": "a200b4bd-0d43-4a2d-c109-edce8d5566c8"
      },
      "execution_count": null,
      "outputs": [
        {
          "output_type": "stream",
          "name": "stdout",
          "text": [
            "root\n",
            " |-- time: timestamp (nullable = true)\n",
            " |--  amount: double (nullable = true)\n",
            " |--  open: double (nullable = true)\n",
            " |--  high: double (nullable = true)\n",
            " |--  low: double (nullable = true)\n",
            " |--  close: double (nullable = true)\n",
            " |--  count: double (nullable = true)\n",
            " |--  vol: double (nullable = true)\n",
            " |-- year: integer (nullable = true)\n",
            " |-- month: integer (nullable = true)\n",
            " |-- day: integer (nullable = true)\n",
            "\n"
          ]
        }
      ]
    },
    {
      "cell_type": "code",
      "source": [
        "from pyspark.sql.functions import to_timestamp, year, month, dayofmonth\n",
        "from pyspark.ml.feature import VectorAssembler\n",
        "from pyspark.ml.regression import DecisionTreeRegressor, RandomForestRegressor, GBTRegressor, LinearRegression\n",
        "from pyspark.ml.evaluation import RegressionEvaluator\n",
        "from pyspark.ml.clustering import KMeans"
      ],
      "metadata": {
        "id": "JWL5KlbTcU5j"
      },
      "execution_count": null,
      "outputs": []
    },
    {
      "cell_type": "code",
      "source": [
        "# Defining the feature column names\n",
        "feature_cols = [' amount', ' open', ' high', ' low', ' count', ' vol', 'year', 'month', 'day']"
      ],
      "metadata": {
        "id": "MPCfkKymcfh1"
      },
      "execution_count": null,
      "outputs": []
    },
    {
      "cell_type": "code",
      "source": [
        "# Defining the target column name\n",
        "target_col = ' close'"
      ],
      "metadata": {
        "id": "qpHWKSOlcpJR"
      },
      "execution_count": null,
      "outputs": []
    },
    {
      "cell_type": "code",
      "source": [
        "# Creating a vector assembler to combine the feature columns into a single vector column\n",
        "vector_assembler = VectorAssembler(inputCols=feature_cols, outputCol='features')"
      ],
      "metadata": {
        "id": "JQ1lMRoycwM-"
      },
      "execution_count": null,
      "outputs": []
    },
    {
      "cell_type": "code",
      "source": [
        "# Transforming the DataFrame to include the features vector column\n",
        "df = vector_assembler.transform(df)"
      ],
      "metadata": {
        "id": "Xqp7rdyWc1MZ"
      },
      "execution_count": null,
      "outputs": []
    },
    {
      "cell_type": "code",
      "source": [
        "# Splitting the DataFrame into training and testing datasets\n",
        "train_data, test_data = df.randomSplit([0.7, 0.3])"
      ],
      "metadata": {
        "id": "_iN7PoH1c7wQ"
      },
      "execution_count": null,
      "outputs": []
    },
    {
      "cell_type": "code",
      "source": [
        "# Training a Decision Tree Regressor model\n",
        "dt = DecisionTreeRegressor(featuresCol='features', labelCol=target_col)\n",
        "dt_model = dt.fit(train_data)\n",
        "dt_predictions = dt_model.transform(test_data)"
      ],
      "metadata": {
        "id": "rzYDJtAFdGKs"
      },
      "execution_count": null,
      "outputs": []
    },
    {
      "cell_type": "code",
      "source": [
        "# Training a Random Forest Regressor model\n",
        "rf = RandomForestRegressor(featuresCol='features', labelCol=target_col)\n",
        "rf_model = rf.fit(train_data)\n",
        "rf_predictions = rf_model.transform(test_data)"
      ],
      "metadata": {
        "id": "xgpGvcJzdLtm"
      },
      "execution_count": null,
      "outputs": []
    },
    {
      "cell_type": "code",
      "source": [
        "# Training a Gradient-Boosted Tree Regressor model\n",
        "gbt = GBTRegressor(featuresCol='features', labelCol=target_col)\n",
        "gbt_model = gbt.fit(train_data)\n",
        "gbt_predictions = gbt_model.transform(test_data)"
      ],
      "metadata": {
        "id": "hS30YqAHdduN"
      },
      "execution_count": null,
      "outputs": []
    },
    {
      "cell_type": "code",
      "source": [
        "# Training a Linear Regression model\n",
        "lr = LinearRegression(featuresCol='features', labelCol=target_col)\n",
        "lr_model = lr.fit(train_data)\n",
        "lr_predictions = lr_model.transform(test_data)"
      ],
      "metadata": {
        "id": "mpK0lwFwd6kk"
      },
      "execution_count": null,
      "outputs": []
    },
    {
      "cell_type": "code",
      "source": [
        "# Training a K-means clustering model\n",
        "kmeans = KMeans(featuresCol='features', predictionCol='cluster', k=5)\n",
        "kmeans_model = kmeans.fit(train_data)\n",
        "train_data_clustered = kmeans_model.transform(train_data)\n",
        "test_data_clustered = kmeans_model.transform(test_data)"
      ],
      "metadata": {
        "id": "NKEx2So7eqbT"
      },
      "execution_count": null,
      "outputs": []
    },
    {
      "cell_type": "code",
      "source": [
        "# Training a Decision Tree Regressor model on the clustered data\n",
        "dt_clustered = DecisionTreeRegressor(featuresCol='features', labelCol=target_col)\n",
        "dt_clustered_model = dt_clustered.fit(train_data_clustered)\n",
        "dt_clustered_predictions = dt_clustered_model.transform(test_data_clustered)"
      ],
      "metadata": {
        "id": "8PXV6HKQe63Z"
      },
      "execution_count": null,
      "outputs": []
    },
    {
      "cell_type": "code",
      "source": [
        "# Training a Random Forest Regressor model on the clustered data\n",
        "rf_clustered = RandomForestRegressor(featuresCol='features', labelCol=target_col)\n",
        "rf_clustered_model = rf_clustered.fit(train_data_clustered)\n",
        "rf_clustered_predictions = rf_clustered_model.transform(test_data_clustered)"
      ],
      "metadata": {
        "id": "e1kYizxbfZc-"
      },
      "execution_count": null,
      "outputs": []
    },
    {
      "cell_type": "code",
      "source": [
        "# Training a Gradient-Boosted Tree Regressor model on the clustered data\n",
        "gbt_clustered = GBTRegressor(featuresCol='features', labelCol=target_col)\n",
        "gbt_clustered_model = gbt_clustered.fit(train_data_clustered)\n",
        "gbt_clustered_predictions = gbt_clustered_model.transform(test_data_clustered)"
      ],
      "metadata": {
        "id": "SJ9rfNozfsEV"
      },
      "execution_count": null,
      "outputs": []
    },
    {
      "cell_type": "code",
      "source": [
        "# Training a Linear Regression model on the clustered data\n",
        "lr_clustered = LinearRegression(featuresCol='features', labelCol=target_col)\n",
        "lr_clustered_model = lr_clustered.fit(train_data_clustered)\n",
        "lr_clustered_predictions = lr_clustered_model.transform(test_data_clustered)"
      ],
      "metadata": {
        "id": "m40DjtAlft-8"
      },
      "execution_count": null,
      "outputs": []
    },
    {
      "cell_type": "code",
      "source": [
        "# Evaluating the models' performance on the test data\n",
        "evaluator = RegressionEvaluator(labelCol=target_col, predictionCol='prediction', metricName='rmse')\n",
        "\n",
        "dt_rmse = evaluator.evaluate(dt_predictions)\n",
        "rf_rmse = evaluator.evaluate(rf_predictions)\n",
        "gbt_rmse = evaluator.evaluate(gbt_predictions)\n",
        "lr_rmse = evaluator.evaluate(lr_predictions)"
      ],
      "metadata": {
        "id": "t2_tzT4Of0fV"
      },
      "execution_count": null,
      "outputs": []
    },
    {
      "cell_type": "code",
      "source": [
        "#Training a KMeans clustering model\n",
        "from pyspark.ml.clustering import KMeans"
      ],
      "metadata": {
        "id": "WHW6zmp5f51U"
      },
      "execution_count": null,
      "outputs": []
    },
    {
      "cell_type": "code",
      "source": [
        "# Training a KMeans clustering model\n",
        "kmeans = KMeans(featuresCol='features', k=5)\n",
        "kmeans_model = kmeans.fit(train_data)\n",
        "kmeans_predictions = kmeans_model.transform(test_data)"
      ],
      "metadata": {
        "id": "4LstM8HngRVZ"
      },
      "execution_count": null,
      "outputs": []
    },
    {
      "cell_type": "code",
      "source": [
        "# Casting the prediction column to double\n",
        "kmeans_predictions = kmeans_predictions.withColumn(\"prediction\", kmeans_predictions[\"prediction\"].cast(\"double\"))"
      ],
      "metadata": {
        "id": "HVRMuFXxgVW6"
      },
      "execution_count": null,
      "outputs": []
    },
    {
      "cell_type": "code",
      "source": [
        "# Evaluating the KMeans model's performance on the test data\n",
        "evaluator = RegressionEvaluator(labelCol=target_col, predictionCol='prediction', metricName='rmse')\n",
        "kmeans_rmse = evaluator.evaluate(kmeans_predictions)"
      ],
      "metadata": {
        "id": "bn2jftc9gqY0"
      },
      "execution_count": null,
      "outputs": []
    },
    {
      "cell_type": "code",
      "source": [
        "#Printing the models' evaluation metrics\n",
        "print('Decision Tree Regressor Model: RMSE = %g' % dt_rmse)\n",
        "print('Random Forest Regressor Model: RMSE = %g' % rf_rmse)\n",
        "print('GBTRegressor Model: RMSE = %g' % gbt_rmse)\n",
        "print('Linear Regression Model: RMSE = %g' % lr_rmse)\n",
        "print('KMeans Clustering Model: RMSE = %g' % kmeans_rmse)"
      ],
      "metadata": {
        "colab": {
          "base_uri": "https://localhost:8080/"
        },
        "id": "PwExiVFrgu4E",
        "outputId": "cbb947a3-bf7c-493c-e35a-2e12312db95f"
      },
      "execution_count": null,
      "outputs": [
        {
          "output_type": "stream",
          "name": "stdout",
          "text": [
            "Decision Tree Regressor Model: RMSE = 628.423\n",
            "Random Forest Regressor Model: RMSE = 773.024\n",
            "GBTRegressor Model: RMSE = 444.304\n",
            "Linear Regression Model: RMSE = 15.2454\n",
            "KMeans Clustering Model: RMSE = 27720.4\n"
          ]
        }
      ]
    },
    {
      "cell_type": "code",
      "source": [
        "#.........................................................................................................................."
      ],
      "metadata": {
        "id": "twx7-iDQg2GM"
      },
      "execution_count": null,
      "outputs": []
    },
    {
      "cell_type": "code",
      "source": [],
      "metadata": {
        "id": "KzLG2t61imA2"
      },
      "execution_count": null,
      "outputs": []
    },
    {
      "cell_type": "code",
      "source": [],
      "metadata": {
        "id": "IP2t5-2kisMR"
      },
      "execution_count": null,
      "outputs": []
    },
    {
      "cell_type": "code",
      "source": [],
      "metadata": {
        "id": "0MFoUglvi3X5"
      },
      "execution_count": null,
      "outputs": []
    },
    {
      "cell_type": "code",
      "source": [],
      "metadata": {
        "id": "N543rpYAjIlG"
      },
      "execution_count": null,
      "outputs": []
    },
    {
      "cell_type": "code",
      "source": [],
      "metadata": {
        "id": "cXXzd_nijcjQ"
      },
      "execution_count": null,
      "outputs": []
    },
    {
      "cell_type": "code",
      "source": [],
      "metadata": {
        "id": "vseRc8nejmVz"
      },
      "execution_count": null,
      "outputs": []
    },
    {
      "cell_type": "code",
      "source": [],
      "metadata": {
        "id": "6oTgs3sjj3L4"
      },
      "execution_count": null,
      "outputs": []
    },
    {
      "cell_type": "code",
      "source": [],
      "metadata": {
        "id": "WnViDXGqkNZu"
      },
      "execution_count": null,
      "outputs": []
    },
    {
      "cell_type": "code",
      "source": [],
      "metadata": {
        "id": "9feXEO_hkUxs"
      },
      "execution_count": null,
      "outputs": []
    },
    {
      "cell_type": "code",
      "source": [],
      "metadata": {
        "id": "RFDo7iTQkeZW"
      },
      "execution_count": null,
      "outputs": []
    },
    {
      "cell_type": "code",
      "source": [],
      "metadata": {
        "id": "ItAsSd8Tko5Y"
      },
      "execution_count": null,
      "outputs": []
    },
    {
      "cell_type": "code",
      "source": [],
      "metadata": {
        "id": "5q7nZ7nGkxU8"
      },
      "execution_count": null,
      "outputs": []
    }
  ]
}